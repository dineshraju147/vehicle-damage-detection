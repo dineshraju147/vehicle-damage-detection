{
 "cells": [
  {
   "cell_type": "code",
   "execution_count": 3,
   "id": "a74f4808-5583-46f3-9de2-a59d447acbd5",
   "metadata": {},
   "outputs": [],
   "source": [
    "import os\n",
    "from torchvision import datasets, transforms\n",
    "import torch\n",
    "import torch.nn as nn\n",
    "import torch.optim as optim\n",
    "from torch.utils.data import DataLoader\n",
    "import torch.nn.functional as F\n",
    "import torchvision.models as models\n",
    "import matplotlib.pyplot as plt\n",
    "import time\n",
    "import optuna"
   ]
  },
  {
   "cell_type": "code",
   "execution_count": 4,
   "id": "0bc27709-90df-452b-9a15-6d2ca640914e",
   "metadata": {},
   "outputs": [
    {
     "data": {
      "text/plain": [
       "'mps'"
      ]
     },
     "execution_count": 4,
     "metadata": {},
     "output_type": "execute_result"
    }
   ],
   "source": [
    "device = (\"cuda\" if torch.cuda.is_available()\n",
    "         else \"mps\" if torch.mps.is_available()\n",
    "         else \"cpu\")\n",
    "device\n"
   ]
  },
  {
   "cell_type": "markdown",
   "id": "5e7b70fc-fc97-41b8-8a15-8914f5481706",
   "metadata": {},
   "source": [
    "# Load Data"
   ]
  },
  {
   "cell_type": "code",
   "execution_count": 5,
   "id": "013ddad7-36ca-4a36-923c-fe49ebb3417c",
   "metadata": {},
   "outputs": [],
   "source": [
    "image_transfroms = transforms.Compose([\n",
    "    # data Augumentation\n",
    "    transforms.RandomHorizontalFlip(),\n",
    "    transforms.RandomRotation(10),\n",
    "    transforms.ColorJitter(brightness=0.2, contrast=0.2),\n",
    "    \n",
    "    transforms.Resize((224, 224)),\n",
    "    transforms.ToTensor(),\n",
    "    transforms.Normalize(mean= [0.485, 0.456, 0.406], std = [0.229,0.224, 0.225 ]) #these are the mean , std for imageNet data \n",
    "    # Since we are using Transfer Learning from Resnet or other Efficient net as those nets are train on imageNet\n",
    "])"
   ]
  },
  {
   "cell_type": "code",
   "execution_count": 6,
   "id": "4398bce4-6f27-40f5-aed9-599e0ab7b99f",
   "metadata": {},
   "outputs": [
    {
     "data": {
      "text/plain": [
       "2300"
      ]
     },
     "execution_count": 6,
     "metadata": {},
     "output_type": "execute_result"
    }
   ],
   "source": [
    "dataset_path = \"./dataset\"\n",
    "dataset = datasets.ImageFolder(root = dataset_path, transform = image_transfroms )\n",
    "len(dataset)"
   ]
  },
  {
   "cell_type": "code",
   "execution_count": 7,
   "id": "3ff36c2f-e0ab-4c43-82ef-91d3ac1ce1c7",
   "metadata": {},
   "outputs": [
    {
     "data": {
      "text/plain": [
       "['F_Breakage', 'F_Crushed', 'F_Normal', 'R_Breakage', 'R_Crushed', 'R_Normal']"
      ]
     },
     "execution_count": 7,
     "metadata": {},
     "output_type": "execute_result"
    }
   ],
   "source": [
    "dataset.classes"
   ]
  },
  {
   "cell_type": "code",
   "execution_count": 8,
   "id": "b23f12c1-fdea-4f43-b98a-a0fa2186b3cd",
   "metadata": {},
   "outputs": [
    {
     "data": {
      "text/plain": [
       "6"
      ]
     },
     "execution_count": 8,
     "metadata": {},
     "output_type": "execute_result"
    }
   ],
   "source": [
    "num_classes = len(dataset.classes)\n",
    "num_classes"
   ]
  },
  {
   "cell_type": "code",
   "execution_count": 9,
   "id": "d971d4ff-e960-4052-a8d9-91087c372984",
   "metadata": {},
   "outputs": [
    {
     "data": {
      "text/plain": [
       "(1725, 575)"
      ]
     },
     "execution_count": 9,
     "metadata": {},
     "output_type": "execute_result"
    }
   ],
   "source": [
    "train_size = int(0.75* len(dataset))\n",
    "val_size = len(dataset) - train_size\n",
    "train_size, val_size"
   ]
  },
  {
   "cell_type": "code",
   "execution_count": 10,
   "id": "9cf2d273-1e3f-41a7-9895-890ba3aad582",
   "metadata": {},
   "outputs": [],
   "source": [
    "from torch.utils.data import random_split\n",
    "\n",
    "train_dataset, val_dataset = random_split(dataset, [train_size, val_size])\n"
   ]
  },
  {
   "cell_type": "code",
   "execution_count": 11,
   "id": "0da5fce1-9313-4da1-a226-06b091d7d3ce",
   "metadata": {},
   "outputs": [],
   "source": [
    "# DataLoader \n",
    "\n",
    "train_loader =  DataLoader(train_dataset, batch_size= 32, shuffle= True)\n",
    "val_loader =  DataLoader(val_dataset, batch_size= 32, shuffle= True)"
   ]
  },
  {
   "cell_type": "code",
   "execution_count": 12,
   "id": "4d932bd8-d4d7-4b75-88a9-b71b08e9435c",
   "metadata": {},
   "outputs": [
    {
     "name": "stdout",
     "output_type": "stream",
     "text": [
      "torch.Size([32, 3, 224, 224])\n",
      "torch.Size([32])\n"
     ]
    }
   ],
   "source": [
    "# Checking the size\n",
    "for images , labels in train_loader:\n",
    "    print(images.shape)\n",
    "    print(labels.shape)\n",
    "    break"
   ]
  },
  {
   "cell_type": "code",
   "execution_count": 13,
   "id": "39ad7537-86a8-408c-b8be-c3cb36d3a384",
   "metadata": {},
   "outputs": [
    {
     "data": {
      "text/plain": [
       "torch.Size([3, 224, 224])"
      ]
     },
     "execution_count": 13,
     "metadata": {},
     "output_type": "execute_result"
    }
   ],
   "source": [
    "images[0].shape"
   ]
  },
  {
   "cell_type": "code",
   "execution_count": 14,
   "id": "dff04ace-9375-42d4-85c4-719eabda172c",
   "metadata": {},
   "outputs": [
    {
     "data": {
      "text/plain": [
       "torch.Size([224, 224, 3])"
      ]
     },
     "execution_count": 14,
     "metadata": {},
     "output_type": "execute_result"
    }
   ],
   "source": [
    "images[0].permute(1,2, 0 ).shape"
   ]
  },
  {
   "cell_type": "code",
   "execution_count": 15,
   "id": "416d1316-f323-48ca-b735-37b052d9030f",
   "metadata": {},
   "outputs": [
    {
     "data": {
      "text/plain": [
       "tensor(2)"
      ]
     },
     "execution_count": 15,
     "metadata": {},
     "output_type": "execute_result"
    }
   ],
   "source": [
    "labels[0]"
   ]
  },
  {
   "cell_type": "code",
   "execution_count": 16,
   "id": "bb45dc40-93e8-450a-b4f0-11559a5ddcd0",
   "metadata": {},
   "outputs": [
    {
     "name": "stderr",
     "output_type": "stream",
     "text": [
      "Clipping input data to the valid range for imshow with RGB data ([0..1] for floats or [0..255] for integers). Got range [-2.0836544..2.64].\n"
     ]
    },
    {
     "data": {
      "image/png": "[encoded data removed]",
      "text/plain": [
       "<Figure size 640x480 with 1 Axes>"
      ]
     },
     "metadata": {},
     "output_type": "display_data"
    }
   ],
   "source": [
    "plt.imshow(images[0].permute(1,2, 0 )) # expects [224 , 224 , 3] not in [3, 244, 244]\n",
    "plt.show()"
   ]
  },
  {
   "cell_type": "code",
   "execution_count": 17,
   "id": "052a574d-617b-4750-a48f-3a9c8f00a762",
   "metadata": {},
   "outputs": [],
   "source": [
    "# car classifier \n",
    "class CarClassifierCNN(nn.Module):\n",
    "    def __init__(self, num_classes):\n",
    "        super().__init__()\n",
    "        self.network = nn.Sequential(\n",
    "            nn.Conv2d(in_channels=3, out_channels=16, kernel_size=3 , stride=1 , padding=1 ), # (16, 244, 244)\n",
    "            nn.ReLU(),\n",
    "            nn.MaxPool2d(kernel_size=2, stride=2, padding=0),                                 # (16, 122, 122)\n",
    "\n",
    "            nn.Conv2d(in_channels=16, out_channels=32, kernel_size=3 , stride=1 , padding=1 ), # (32, 122, 122)\n",
    "            nn.ReLU(),\n",
    "            nn.MaxPool2d(kernel_size=2, stride=2, padding=0),                                 # (32, 56, 56)\n",
    "\n",
    "            nn.Conv2d(in_channels=32, out_channels=64, kernel_size=3 , stride=1 , padding=1 ), # (64, 56, 56)\n",
    "            nn.ReLU(),\n",
    "            nn.MaxPool2d(kernel_size=2, stride=2, padding=0),                                 # (64, 28, 28)\n",
    "\n",
    "            nn.Flatten(),\n",
    "\n",
    "            # FCN \n",
    "            nn.Linear(64*28*28 , 512),\n",
    "            nn.ReLU(),\n",
    "            nn.Linear(512, num_classes)\n",
    "            \n",
    "            \n",
    "            \n",
    "        )\n",
    "\n",
    "    def forward(self, x):\n",
    "        x = self.network(x)\n",
    "        return x\n"
   ]
  },
  {
   "cell_type": "markdown",
   "id": "93943c1c-0a8a-4903-80f3-d5382655afd3",
   "metadata": {},
   "source": [
    "# Model 1"
   ]
  },
  {
   "cell_type": "code",
   "execution_count": null,
   "id": "19d73ace-2354-4e6d-a67a-bacfea15b68d",
   "metadata": {},
   "outputs": [],
   "source": []
  },
  {
   "cell_type": "code",
   "execution_count": 18,
   "id": "eae1a7ac-d02c-45a0-82a3-735b05df3785",
   "metadata": {},
   "outputs": [],
   "source": [
    "def train_model(model, criterion, optimizer, epochs=5):\n",
    "    start = time.time()\n",
    "    \n",
    "    for epoch in range(epochs):\n",
    "        model.train()\n",
    "        running_loss = 0.0\n",
    "        for batch_num, (images, labels) in enumerate(train_loader):\n",
    "            images, labels = images.to(device), labels.to(device)\n",
    "            \n",
    "            # Zero the parameter gradients\n",
    "            optimizer.zero_grad()\n",
    "            \n",
    "            # Forward pass\n",
    "            outputs = model(images)\n",
    "            loss = criterion(outputs, labels)\n",
    "            \n",
    "            # Backward pass and optimization\n",
    "            loss.backward()\n",
    "            optimizer.step()\n",
    "            \n",
    "            if (batch_num+1) % 10 == 0:\n",
    "                print(f\"Batch: {batch_num+1}, Epoch: {epoch+1}, Loss: {loss.item():0.2f}\")\n",
    "            \n",
    "            running_loss += loss.item() * images.size(0)\n",
    "            \n",
    "        epoch_loss = running_loss / len(train_loader.dataset)\n",
    "        print(f\"Epoch [{epoch+1}/{epochs}], Avg Loss: {epoch_loss:.4f}\")\n",
    "\n",
    "        # Validation\n",
    "        model.eval()\n",
    "        correct = 0\n",
    "        total = 0\n",
    "        all_labels = []\n",
    "        all_predictions = []\n",
    "        \n",
    "        with torch.no_grad():\n",
    "            for images, labels in val_loader:\n",
    "                images, labels = images.to(device), labels.to(device)\n",
    "                outputs = model(images)\n",
    "                _, predicted = torch.max(outputs.data,1)\n",
    "                total += labels.size(0)\n",
    "                correct += (predicted == labels).sum().item()\n",
    "                all_labels.extend(labels.cpu().numpy())\n",
    "                all_predictions.extend(predicted.cpu().numpy())\n",
    "                \n",
    "            print(f\"*** Validation Accuracy: {100 * correct / total:.2f}% ***\")\n",
    "            \n",
    "    end = time.time()\n",
    "    print(f\"Execution time: {end - start} seconds\")     \n",
    "    \n",
    "    return all_labels, all_predictions"
   ]
  },
  {
   "cell_type": "code",
   "execution_count": null,
   "id": "e7a393a2-6463-4a5b-a868-1d54668f50de",
   "metadata": {},
   "outputs": [],
   "source": []
  },
  {
   "cell_type": "code",
   "execution_count": 19,
   "id": "ede5ea98-5c82-4854-b6e6-70e79a53329b",
   "metadata": {},
   "outputs": [],
   "source": [
    "# car classifier \n",
    "class CarClassifierCNNwithRegularization(nn.Module):\n",
    "    def __init__(self, num_classes):\n",
    "        super().__init__()\n",
    "        self.network = nn.Sequential(\n",
    "            nn.Conv2d(in_channels=3, out_channels=16, kernel_size=3 , stride=1 , padding=1 ), # (16, 244, 244)\n",
    "            nn.BatchNorm2d(16),\n",
    "            nn.ReLU(),\n",
    "            nn.MaxPool2d(kernel_size=2, stride=2, padding=0),                                 # (16, 122, 122)\n",
    "\n",
    "            nn.Conv2d(in_channels=16, out_channels=32, kernel_size=3 , stride=1 , padding=1 ), # (32, 122, 122)\n",
    "            nn.BatchNorm2d(32),\n",
    "            nn.ReLU(),\n",
    "            nn.MaxPool2d(kernel_size=2, stride=2, padding=0),                                 # (32, 56, 56)\n",
    "\n",
    "            nn.Conv2d(in_channels=32, out_channels=64, kernel_size=3 , stride=1 , padding=1 ), # (64, 56, 56)\n",
    "            nn.BatchNorm2d(64),\n",
    "            nn.ReLU(),\n",
    "            nn.MaxPool2d(kernel_size=2, stride=2, padding=0),                                 # (64, 28, 28)\n",
    "\n",
    "            nn.Flatten(),\n",
    "\n",
    "            # FCN \n",
    "            nn.Linear(64*28*28 , 512),\n",
    "            nn.ReLU(),\n",
    "            nn.Dropout(0.5),\n",
    "            nn.Linear(512, num_classes)\n",
    "            \n",
    "            \n",
    "            \n",
    "        )\n",
    "\n",
    "    def forward(self, x):\n",
    "        x = self.network(x)\n",
    "        return x\n"
   ]
  },
  {
   "cell_type": "code",
   "execution_count": 20,
   "id": "f5d5e2b4-25af-46b8-8efc-cd2bc720b1d6",
   "metadata": {},
   "outputs": [
    {
     "name": "stdout",
     "output_type": "stream",
     "text": [
      "Batch: 10, Epoch: 1, Loss: 12.79\n",
      "Batch: 20, Epoch: 1, Loss: 5.62\n",
      "Batch: 30, Epoch: 1, Loss: 2.54\n",
      "Batch: 40, Epoch: 1, Loss: 1.72\n",
      "Batch: 50, Epoch: 1, Loss: 1.72\n",
      "Epoch [1/5], Avg Loss: 5.7274\n",
      "*** Validation Accuracy: 45.57% ***\n",
      "Batch: 10, Epoch: 2, Loss: 1.46\n",
      "Batch: 20, Epoch: 2, Loss: 1.76\n",
      "Batch: 30, Epoch: 2, Loss: 1.19\n",
      "Batch: 40, Epoch: 2, Loss: 1.64\n",
      "Batch: 50, Epoch: 2, Loss: 1.11\n",
      "Epoch [2/5], Avg Loss: 1.3519\n",
      "*** Validation Accuracy: 48.17% ***\n",
      "Batch: 10, Epoch: 3, Loss: 1.18\n",
      "Batch: 20, Epoch: 3, Loss: 0.99\n",
      "Batch: 30, Epoch: 3, Loss: 1.17\n",
      "Batch: 40, Epoch: 3, Loss: 1.03\n",
      "Batch: 50, Epoch: 3, Loss: 1.08\n",
      "Epoch [3/5], Avg Loss: 1.2254\n",
      "*** Validation Accuracy: 54.43% ***\n",
      "Batch: 10, Epoch: 4, Loss: 1.26\n",
      "Batch: 20, Epoch: 4, Loss: 0.92\n",
      "Batch: 30, Epoch: 4, Loss: 1.12\n",
      "Batch: 40, Epoch: 4, Loss: 1.21\n",
      "Batch: 50, Epoch: 4, Loss: 1.15\n",
      "Epoch [4/5], Avg Loss: 1.1793\n",
      "*** Validation Accuracy: 52.52% ***\n",
      "Batch: 10, Epoch: 5, Loss: 1.11\n",
      "Batch: 20, Epoch: 5, Loss: 1.11\n",
      "Batch: 30, Epoch: 5, Loss: 0.93\n",
      "Batch: 40, Epoch: 5, Loss: 1.13\n",
      "Batch: 50, Epoch: 5, Loss: 0.91\n",
      "Epoch [5/5], Avg Loss: 1.1106\n",
      "*** Validation Accuracy: 54.43% ***\n",
      "Execution time: 224.1488230228424 seconds\n"
     ]
    }
   ],
   "source": [
    "model = CarClassifierCNNwithRegularization(num_classes=num_classes).to(device)\n",
    "criterion = nn.CrossEntropyLoss()\n",
    "optimizer = optim.Adam(model.parameters(), lr=0.001, weight_decay=1e-4)\n",
    "\n",
    "all_labels, all_predictions = train_model(model, criterion, optimizer,  epochs=5)"
   ]
  },
  {
   "cell_type": "code",
   "execution_count": 21,
   "id": "2205ee96-a35f-4cb9-9314-9815ea3797a3",
   "metadata": {},
   "outputs": [
    {
     "data": {
      "text/plain": [
       "1280"
      ]
     },
     "execution_count": 21,
     "metadata": {},
     "output_type": "execute_result"
    }
   ],
   "source": [
    "model = models.efficientnet_b0(weights='DEFAULT')\n",
    "model.classifier[1].in_features"
   ]
  },
  {
   "cell_type": "code",
   "execution_count": 22,
   "id": "aea3ed54-e4df-4dd6-8cf0-3c7357f1e853",
   "metadata": {},
   "outputs": [],
   "source": [
    "class CarClassifierEfficientNet(nn.Module):\n",
    "    def __init__(self, num_classes):\n",
    "        super().__init__()\n",
    "        self.model = models.efficientnet_b0(weights='DEFAULT')\n",
    "        \n",
    "        for param in self.model.parameters():\n",
    "            param.requires_grad = False\n",
    "        \n",
    "        in_features = self.model.classifier[1].in_features\n",
    "        \n",
    "        self.model.classifier = nn.Sequential(\n",
    "            nn.Dropout(0.5),\n",
    "            nn.Linear(in_features, num_classes)\n",
    "        )\n",
    "        \n",
    "    def forward(self, x):\n",
    "        x = self.model(x)\n",
    "        return x              "
   ]
  },
  {
   "cell_type": "code",
   "execution_count": 23,
   "id": "fb61200b-66b8-4c37-b1c6-2fc121c0bff7",
   "metadata": {},
   "outputs": [
    {
     "name": "stdout",
     "output_type": "stream",
     "text": [
      "Batch: 10, Epoch: 1, Loss: 1.72\n",
      "Batch: 20, Epoch: 1, Loss: 1.55\n",
      "Batch: 30, Epoch: 1, Loss: 1.49\n",
      "Batch: 40, Epoch: 1, Loss: 1.45\n",
      "Batch: 50, Epoch: 1, Loss: 1.20\n",
      "Epoch [1/10], Avg Loss: 1.4903\n",
      "*** Validation Accuracy: 61.22% ***\n",
      "Batch: 10, Epoch: 2, Loss: 1.13\n",
      "Batch: 20, Epoch: 2, Loss: 1.23\n",
      "Batch: 30, Epoch: 2, Loss: 1.35\n",
      "Batch: 40, Epoch: 2, Loss: 1.15\n",
      "Batch: 50, Epoch: 2, Loss: 1.17\n",
      "Epoch [2/10], Avg Loss: 1.1700\n",
      "*** Validation Accuracy: 63.13% ***\n",
      "Batch: 10, Epoch: 3, Loss: 1.00\n",
      "Batch: 20, Epoch: 3, Loss: 1.12\n",
      "Batch: 30, Epoch: 3, Loss: 1.01\n",
      "Batch: 40, Epoch: 3, Loss: 0.85\n",
      "Batch: 50, Epoch: 3, Loss: 0.90\n",
      "Epoch [3/10], Avg Loss: 1.0361\n",
      "*** Validation Accuracy: 63.13% ***\n",
      "Batch: 10, Epoch: 4, Loss: 0.89\n",
      "Batch: 20, Epoch: 4, Loss: 0.71\n",
      "Batch: 30, Epoch: 4, Loss: 0.96\n",
      "Batch: 40, Epoch: 4, Loss: 0.80\n",
      "Batch: 50, Epoch: 4, Loss: 1.08\n",
      "Epoch [4/10], Avg Loss: 0.9509\n",
      "*** Validation Accuracy: 65.91% ***\n",
      "Batch: 10, Epoch: 5, Loss: 0.82\n",
      "Batch: 20, Epoch: 5, Loss: 0.88\n",
      "Batch: 30, Epoch: 5, Loss: 0.92\n",
      "Batch: 40, Epoch: 5, Loss: 0.96\n",
      "Batch: 50, Epoch: 5, Loss: 0.82\n",
      "Epoch [5/10], Avg Loss: 0.9254\n",
      "*** Validation Accuracy: 65.39% ***\n",
      "Batch: 10, Epoch: 6, Loss: 0.77\n",
      "Batch: 20, Epoch: 6, Loss: 0.88\n",
      "Batch: 30, Epoch: 6, Loss: 1.08\n",
      "Batch: 40, Epoch: 6, Loss: 1.10\n",
      "Batch: 50, Epoch: 6, Loss: 0.88\n",
      "Epoch [6/10], Avg Loss: 0.8801\n",
      "*** Validation Accuracy: 66.61% ***\n",
      "Batch: 10, Epoch: 7, Loss: 0.90\n",
      "Batch: 20, Epoch: 7, Loss: 0.90\n",
      "Batch: 30, Epoch: 7, Loss: 0.84\n",
      "Batch: 40, Epoch: 7, Loss: 0.81\n",
      "Batch: 50, Epoch: 7, Loss: 0.67\n",
      "Epoch [7/10], Avg Loss: 0.8703\n",
      "*** Validation Accuracy: 65.91% ***\n",
      "Batch: 10, Epoch: 8, Loss: 0.99\n",
      "Batch: 20, Epoch: 8, Loss: 0.63\n",
      "Batch: 30, Epoch: 8, Loss: 1.01\n",
      "Batch: 40, Epoch: 8, Loss: 0.81\n",
      "Batch: 50, Epoch: 8, Loss: 0.90\n",
      "Epoch [8/10], Avg Loss: 0.8498\n",
      "*** Validation Accuracy: 67.83% ***\n",
      "Batch: 10, Epoch: 9, Loss: 0.84\n",
      "Batch: 20, Epoch: 9, Loss: 0.64\n",
      "Batch: 30, Epoch: 9, Loss: 0.96\n",
      "Batch: 40, Epoch: 9, Loss: 0.73\n",
      "Batch: 50, Epoch: 9, Loss: 0.79\n",
      "Epoch [9/10], Avg Loss: 0.8187\n",
      "*** Validation Accuracy: 66.26% ***\n",
      "Batch: 10, Epoch: 10, Loss: 0.88\n",
      "Batch: 20, Epoch: 10, Loss: 0.78\n",
      "Batch: 30, Epoch: 10, Loss: 0.71\n",
      "Batch: 40, Epoch: 10, Loss: 0.58\n",
      "Batch: 50, Epoch: 10, Loss: 0.89\n",
      "Epoch [10/10], Avg Loss: 0.8114\n",
      "*** Validation Accuracy: 65.74% ***\n",
      "Execution time: 492.0337269306183 seconds\n"
     ]
    }
   ],
   "source": [
    "model = CarClassifierEfficientNet(num_classes=num_classes).to(device)\n",
    "criterion = nn.CrossEntropyLoss()\n",
    "optimizer = optim.Adam(filter(lambda p: p.requires_grad, model.parameters()), lr=0.001)\n",
    "\n",
    "all_labels, all_predictions = train_model(model, criterion, optimizer, epochs=10)"
   ]
  },
  {
   "cell_type": "markdown",
   "id": "820c7004-f01d-4208-80ec-6bb96a369d69",
   "metadata": {},
   "source": [
    "### Model 4: Transfer Learning with ResNet"
   ]
  },
  {
   "cell_type": "code",
   "execution_count": 24,
   "id": "dbb99fa5-6d11-4d2f-9e7b-5b1e16364bcd",
   "metadata": {},
   "outputs": [],
   "source": [
    "# Load the pre-trained ResNet model\n",
    "class CarClassifierResNet(nn.Module):\n",
    "    def __init__(self, num_classes, dropout_rate=0.5):\n",
    "        super().__init__()\n",
    "        self.model = models.resnet50(weights='DEFAULT')\n",
    "        # Freeze all layers except the final fully connected layer\n",
    "        for param in self.model.parameters():\n",
    "            param.requires_grad = False\n",
    "            \n",
    "        # Unfreeze layer4 and fc layers\n",
    "        for param in self.model.layer4.parameters():\n",
    "            param.requires_grad = True            \n",
    "            \n",
    "        # Replace the final fully connected layer\n",
    "        self.model.fc = nn.Sequential(\n",
    "            nn.Dropout(dropout_rate),\n",
    "            nn.Linear(self.model.fc.in_features, num_classes)\n",
    "        )\n",
    "\n",
    "    def forward(self, x):\n",
    "        x = self.model(x)\n",
    "        return x"
   ]
  },
  {
   "cell_type": "code",
   "execution_count": 25,
   "id": "5f86b96c-c9c1-4100-94eb-f6a16537b864",
   "metadata": {},
   "outputs": [
    {
     "name": "stdout",
     "output_type": "stream",
     "text": [
      "Batch: 10, Epoch: 1, Loss: 1.13\n",
      "Batch: 20, Epoch: 1, Loss: 0.63\n",
      "Batch: 30, Epoch: 1, Loss: 0.65\n",
      "Batch: 40, Epoch: 1, Loss: 0.67\n",
      "Batch: 50, Epoch: 1, Loss: 1.01\n",
      "Epoch [1/10], Avg Loss: 0.8750\n",
      "*** Validation Accuracy: 72.87% ***\n",
      "Batch: 10, Epoch: 2, Loss: 0.49\n",
      "Batch: 20, Epoch: 2, Loss: 0.37\n",
      "Batch: 30, Epoch: 2, Loss: 0.33\n",
      "Batch: 40, Epoch: 2, Loss: 0.74\n",
      "Batch: 50, Epoch: 2, Loss: 0.50\n",
      "Epoch [2/10], Avg Loss: 0.4641\n",
      "*** Validation Accuracy: 74.96% ***\n",
      "Batch: 10, Epoch: 3, Loss: 0.40\n",
      "Batch: 20, Epoch: 3, Loss: 0.62\n",
      "Batch: 30, Epoch: 3, Loss: 0.26\n",
      "Batch: 40, Epoch: 3, Loss: 0.16\n",
      "Batch: 50, Epoch: 3, Loss: 0.77\n",
      "Epoch [3/10], Avg Loss: 0.3539\n",
      "*** Validation Accuracy: 74.09% ***\n",
      "Batch: 10, Epoch: 4, Loss: 0.14\n",
      "Batch: 20, Epoch: 4, Loss: 0.24\n",
      "Batch: 30, Epoch: 4, Loss: 0.31\n",
      "Batch: 40, Epoch: 4, Loss: 0.25\n",
      "Batch: 50, Epoch: 4, Loss: 0.35\n",
      "Epoch [4/10], Avg Loss: 0.2509\n",
      "*** Validation Accuracy: 79.30% ***\n",
      "Batch: 10, Epoch: 5, Loss: 0.16\n",
      "Batch: 20, Epoch: 5, Loss: 0.04\n",
      "Batch: 30, Epoch: 5, Loss: 0.23\n",
      "Batch: 40, Epoch: 5, Loss: 0.35\n",
      "Batch: 50, Epoch: 5, Loss: 0.27\n",
      "Epoch [5/10], Avg Loss: 0.1926\n",
      "*** Validation Accuracy: 81.91% ***\n",
      "Batch: 10, Epoch: 6, Loss: 0.11\n",
      "Batch: 20, Epoch: 6, Loss: 0.16\n",
      "Batch: 30, Epoch: 6, Loss: 0.16\n",
      "Batch: 40, Epoch: 6, Loss: 0.19\n",
      "Batch: 50, Epoch: 6, Loss: 0.17\n",
      "Epoch [6/10], Avg Loss: 0.1537\n",
      "*** Validation Accuracy: 80.87% ***\n",
      "Batch: 10, Epoch: 7, Loss: 0.23\n",
      "Batch: 20, Epoch: 7, Loss: 0.06\n",
      "Batch: 30, Epoch: 7, Loss: 0.07\n",
      "Batch: 40, Epoch: 7, Loss: 0.10\n",
      "Batch: 50, Epoch: 7, Loss: 0.31\n",
      "Epoch [7/10], Avg Loss: 0.1372\n",
      "*** Validation Accuracy: 82.43% ***\n",
      "Batch: 10, Epoch: 8, Loss: 0.02\n",
      "Batch: 20, Epoch: 8, Loss: 0.04\n",
      "Batch: 30, Epoch: 8, Loss: 0.11\n",
      "Batch: 40, Epoch: 8, Loss: 0.03\n",
      "Batch: 50, Epoch: 8, Loss: 0.03\n",
      "Epoch [8/10], Avg Loss: 0.0855\n",
      "*** Validation Accuracy: 84.00% ***\n",
      "Batch: 10, Epoch: 9, Loss: 0.15\n",
      "Batch: 20, Epoch: 9, Loss: 0.03\n",
      "Batch: 30, Epoch: 9, Loss: 0.06\n",
      "Batch: 40, Epoch: 9, Loss: 0.15\n",
      "Batch: 50, Epoch: 9, Loss: 0.03\n",
      "Epoch [9/10], Avg Loss: 0.0922\n",
      "*** Validation Accuracy: 81.57% ***\n",
      "Batch: 10, Epoch: 10, Loss: 0.11\n",
      "Batch: 20, Epoch: 10, Loss: 0.02\n",
      "Batch: 30, Epoch: 10, Loss: 0.04\n",
      "Batch: 40, Epoch: 10, Loss: 0.06\n",
      "Batch: 50, Epoch: 10, Loss: 0.10\n",
      "Epoch [10/10], Avg Loss: 0.0910\n",
      "*** Validation Accuracy: 81.39% ***\n",
      "Execution time: 660.5960831642151 seconds\n"
     ]
    }
   ],
   "source": [
    "model = CarClassifierResNet(num_classes=num_classes).to(device)\n",
    "criterion = nn.CrossEntropyLoss()\n",
    "optimizer = optim.Adam(filter(lambda p: p.requires_grad, model.parameters()), lr=0.001)\n",
    "\n",
    "labels, predictions = train_model(model, criterion, optimizer, epochs=10)"
   ]
  },
  {
   "cell_type": "code",
   "execution_count": 26,
   "id": "d2d70ec8-c120-46d9-b425-6c7b02dae620",
   "metadata": {},
   "outputs": [],
   "source": [
    "# Define the objective function for Optuna\n",
    "def objective(trial):\n",
    "    # Suggest values for the hyperparameters\n",
    "    lr = trial.suggest_float('lr', 1e-5, 1e-2, log=True)\n",
    "    dropout_rate = trial.suggest_float('dropout_rate', 0.2, 0.7)\n",
    "    \n",
    "    # Load the model\n",
    "    model = CarClassifierResNet(num_classes=num_classes, dropout_rate=dropout_rate).to(device)\n",
    "    \n",
    "    # Define the loss function and optimizer\n",
    "    criterion = nn.CrossEntropyLoss()\n",
    "    optimizer = optim.Adam(filter(lambda p: p.requires_grad, model.parameters()), lr=lr)\n",
    "    \n",
    "    # Training loop (using fewer epochs for faster hyperparameter tuning)\n",
    "    epochs = 3\n",
    "    start = time.time()\n",
    "    for epoch in range(epochs):\n",
    "        model.train()\n",
    "        running_loss = 0.0\n",
    "        for batch_num, (images, labels) in enumerate(train_loader):\n",
    "            images, labels = images.to(device), labels.to(device)\n",
    "\n",
    "            optimizer.zero_grad()\n",
    "            outputs = model(images)\n",
    "            loss = criterion(outputs, labels)\n",
    "            loss.backward()\n",
    "            optimizer.step()\n",
    "            running_loss += loss.item() * images.size(0)\n",
    "\n",
    "        epoch_loss = running_loss / len(train_loader.dataset)\n",
    "        \n",
    "        # Validation loop\n",
    "        model.eval()\n",
    "        correct = 0\n",
    "        total = 0\n",
    "        with torch.no_grad():\n",
    "            for images, labels in val_loader:\n",
    "                images, labels = images.to(device), labels.to(device)\n",
    "                outputs = model(images)\n",
    "                _, predicted = torch.max(outputs.data, 1)\n",
    "                total += labels.size(0)\n",
    "                correct += (predicted == labels).sum().item()\n",
    "\n",
    "        accuracy = 100 * correct / total\n",
    "        \n",
    "        # Report intermediate result to Optuna\n",
    "        trial.report(accuracy, epoch)\n",
    "        \n",
    "        # Handle pruning (if applicable)\n",
    "        if trial.should_prune():\n",
    "            raise optuna.exceptions.TrialPruned()\n",
    "\n",
    "    end = time.time()\n",
    "    print(f\"Execution time: {end - start} seconds\")\n",
    "    \n",
    "    return accuracy"
   ]
  },
  {
   "cell_type": "code",
   "execution_count": 27,
   "id": "31264329-4f02-49b0-a36d-c8f63ee3cba6",
   "metadata": {},
   "outputs": [
    {
     "name": "stderr",
     "output_type": "stream",
     "text": [
      "[I 2025-06-11 19:34:34,037] A new study created in memory with name: no-name-5fde6c8f-6409-41b9-8c4d-bc129a99b623\n",
      "[I 2025-06-11 19:37:17,677] Trial 0 finished with value: 77.56521739130434 and parameters: {'lr': 0.00025883513612924775, 'dropout_rate': 0.5219974492774537}. Best is trial 0 with value: 77.56521739130434.\n"
     ]
    },
    {
     "name": "stdout",
     "output_type": "stream",
     "text": [
      "Execution time: 163.24363493919373 seconds\n"
     ]
    },
    {
     "name": "stderr",
     "output_type": "stream",
     "text": [
      "[I 2025-06-11 19:40:01,634] Trial 1 finished with value: 78.43478260869566 and parameters: {'lr': 0.00034599184713467987, 'dropout_rate': 0.35807258727954555}. Best is trial 1 with value: 78.43478260869566.\n"
     ]
    },
    {
     "name": "stdout",
     "output_type": "stream",
     "text": [
      "Execution time: 163.58374500274658 seconds\n"
     ]
    },
    {
     "name": "stderr",
     "output_type": "stream",
     "text": [
      "[I 2025-06-11 19:42:44,888] Trial 2 finished with value: 77.56521739130434 and parameters: {'lr': 0.001035458302572843, 'dropout_rate': 0.2648472506566282}. Best is trial 1 with value: 78.43478260869566.\n"
     ]
    },
    {
     "name": "stdout",
     "output_type": "stream",
     "text": [
      "Execution time: 162.89064693450928 seconds\n"
     ]
    },
    {
     "name": "stderr",
     "output_type": "stream",
     "text": [
      "[I 2025-06-11 19:45:32,515] Trial 3 finished with value: 49.56521739130435 and parameters: {'lr': 1.3053960218523072e-05, 'dropout_rate': 0.3565005077290421}. Best is trial 1 with value: 78.43478260869566.\n"
     ]
    },
    {
     "name": "stdout",
     "output_type": "stream",
     "text": [
      "Execution time: 167.2511761188507 seconds\n"
     ]
    },
    {
     "name": "stderr",
     "output_type": "stream",
     "text": [
      "[I 2025-06-11 19:48:27,214] Trial 4 finished with value: 74.6086956521739 and parameters: {'lr': 5.708128444581881e-05, 'dropout_rate': 0.45941238138072}. Best is trial 1 with value: 78.43478260869566.\n"
     ]
    },
    {
     "name": "stdout",
     "output_type": "stream",
     "text": [
      "Execution time: 174.32424020767212 seconds\n"
     ]
    },
    {
     "name": "stderr",
     "output_type": "stream",
     "text": [
      "[I 2025-06-11 19:49:22,021] Trial 5 pruned. \n",
      "[I 2025-06-11 19:50:16,453] Trial 6 pruned. \n",
      "[I 2025-06-11 19:51:10,619] Trial 7 pruned. \n",
      "[I 2025-06-11 19:52:05,683] Trial 8 pruned. \n",
      "[I 2025-06-11 19:52:59,700] Trial 9 pruned. \n",
      "[I 2025-06-11 19:53:54,471] Trial 10 pruned. \n",
      "[I 2025-06-11 19:54:50,551] Trial 11 pruned. \n",
      "[I 2025-06-11 19:55:45,172] Trial 12 pruned. \n",
      "[I 2025-06-11 19:56:39,136] Trial 13 pruned. \n",
      "[I 2025-06-11 19:57:33,198] Trial 14 pruned. \n",
      "[I 2025-06-11 19:58:35,382] Trial 15 pruned. \n",
      "[I 2025-06-11 19:59:41,876] Trial 16 pruned. \n",
      "[I 2025-06-11 20:00:36,040] Trial 17 pruned. \n",
      "[I 2025-06-11 20:01:32,097] Trial 18 pruned. \n",
      "[I 2025-06-11 20:02:25,957] Trial 19 pruned. \n"
     ]
    }
   ],
   "source": [
    "# Create the study and optimize\n",
    "study = optuna.create_study(direction='maximize')\n",
    "study.optimize(objective, n_trials=20)"
   ]
  }
 ],
 "metadata": {
  "kernelspec": {
   "display_name": "Python (PyTorch)",
   "language": "python",
   "name": "pytorch_env"
  },
  "language_info": {
   "codemirror_mode": {
    "name": "ipython",
    "version": 3
   },
   "file_extension": ".py",
   "mimetype": "text/x-python",
   "name": "python",
   "nbconvert_exporter": "python",
   "pygments_lexer": "ipython3",
   "version": "3.13.2"
  }
 },
 "nbformat": 4,
 "nbformat_minor": 5
}
